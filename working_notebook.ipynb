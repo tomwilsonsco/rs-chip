{
 "cells": [
  {
   "cell_type": "code",
   "execution_count": null,
   "metadata": {},
   "outputs": [],
   "source": [
    "from pathlib import Path\n",
    "from rs_chipper.chip_image import chip_image\n",
    "from rs_chipper.chip_image_to_npz import chip_image_to_npz\n",
    "from rs_chipper.sample_image_pixels import sample_image_pixels\n",
    "from rs_chipper.remove_background_only import remove_background_only_npz"
   ]
  },
  {
   "cell_type": "code",
   "execution_count": null,
   "metadata": {},
   "outputs": [],
   "source": [
    "# set directories\n",
    "current_directory = Path.cwd()\n",
    "parent_directory = current_directory.parent\n",
    "image_fp = Path(parent_directory, \"s2_flow_country_2023_06_16.tif\")\n",
    "class_image_fp = Path(parent_directory, \"water_class_img.tif\")"
   ]
  },
  {
   "cell_type": "code",
   "execution_count": null,
   "metadata": {},
   "outputs": [],
   "source": [
    "# chip sentinel 2 image to tif\n",
    "# Here no scaling to pixel values in 16 bit format\n",
    "chip_image(image_fp, Path(parent_directory, \"chips\"), standard_scale=False)"
   ]
  },
  {
   "cell_type": "code",
   "execution_count": null,
   "metadata": {},
   "outputs": [],
   "source": [
    "# chip class image to tif ensuring output images have same name as the sentinel 2 image\n",
    "chip_image(\n",
    "    class_image_fp,\n",
    "    Path(parent_directory, \"class_chips\"),\n",
    "    output_name=\"s2_flow_country_2023_06_16\",\n",
    "    standard_scale=False,\n",
    ")"
   ]
  },
  {
   "cell_type": "code",
   "execution_count": null,
   "metadata": {},
   "outputs": [],
   "source": [
    "# test the sampling function used for standard scaling\n",
    "sample_image_pixels(image_fp)"
   ]
  },
  {
   "cell_type": "code",
   "execution_count": null,
   "metadata": {},
   "outputs": [],
   "source": [
    "# chip the image to np arrays in npz - up to 1K arrays per zip\n",
    "chip_image_to_npz(\n",
    "    image_fp, Path(parent_directory, \"chips\"), standard_scale=True, batch_size=1000\n",
    ")"
   ]
  },
  {
   "cell_type": "code",
   "execution_count": null,
   "metadata": {},
   "outputs": [],
   "source": [
    "# chip the class image to np arrays in npz - up to 1k arrays per zip with same name as sentinel 2 image\n",
    "chip_image_to_npz(\n",
    "    class_image_fp,\n",
    "    Path(parent_directory, \"class_chips\"),\n",
    "    output_name=\"s2_flow_country_2023_06_16\",\n",
    "    standard_scale=False,\n",
    "    batch_size=1000,\n",
    ")"
   ]
  },
  {
   "cell_type": "code",
   "execution_count": null,
   "metadata": {},
   "outputs": [],
   "source": [
    "import numpy as np\n",
    "\n",
    "test_npz = list(Path(parent_directory, \"class_chips\").glob(f\"**/*.npz\"))[0]\n",
    "test = np.load(test_npz)\n",
    "print(len(test.keys()))"
   ]
  },
  {
   "cell_type": "code",
   "execution_count": null,
   "metadata": {},
   "outputs": [],
   "source": [
    "remove_background_only_npz(\n",
    "    Path(parent_directory, \"class_chips\"),\n",
    "    Path(parent_directory, \"chips\"),\n",
    "    background_val=0,\n",
    "    non_background_min=1000,\n",
    "    masks_prefix=None,\n",
    "    images_prefix=None,\n",
    ")"
   ]
  }
 ],
 "metadata": {
  "kernelspec": {
   "display_name": "geospatial",
   "language": "python",
   "name": "python3"
  },
  "language_info": {
   "codemirror_mode": {
    "name": "ipython",
    "version": 3
   },
   "file_extension": ".py",
   "mimetype": "text/x-python",
   "name": "python",
   "nbconvert_exporter": "python",
   "pygments_lexer": "ipython3",
   "version": "3.12.0"
  }
 },
 "nbformat": 4,
 "nbformat_minor": 2
}
